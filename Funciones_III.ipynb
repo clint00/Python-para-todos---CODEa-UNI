{
  "nbformat": 4,
  "nbformat_minor": 0,
  "metadata": {
    "colab": {
      "name": "Funciones III.ipynb",
      "provenance": [],
      "authorship_tag": "ABX9TyOFEQJDBPCajy/Xit9l4Gr2",
      "include_colab_link": true
    },
    "kernelspec": {
      "name": "python3",
      "display_name": "Python 3"
    },
    "language_info": {
      "name": "python"
    }
  },
  "cells": [
    {
      "cell_type": "markdown",
      "metadata": {
        "id": "view-in-github",
        "colab_type": "text"
      },
      "source": [
        "<a href=\"https://colab.research.google.com/github/clint00/Python-para-todos---CODEa-UNI/blob/curso_python/Funciones_III.ipynb\" target=\"_parent\"><img src=\"https://colab.research.google.com/assets/colab-badge.svg\" alt=\"Open In Colab\"/></a>"
      ]
    },
    {
      "cell_type": "markdown",
      "source": [
        "## **Definición de funciones - Argumentos con valores por omisión:**\n",
        "\n",
        "\n",
        "Esto crea una función que puede ser llamada con menos argumentos que los que permite.\n",
        "\n",
        "\n",
        "*   Los valores por omisión son  evaluados en el momento de la definición de la función.\n",
        "\n"
      ],
      "metadata": {
        "id": "NNIE7-HHryHP"
      }
    },
    {
      "cell_type": "code",
      "execution_count": 3,
      "metadata": {
        "id": "00cH5zTurcor",
        "colab": {
          "base_uri": "https://localhost:8080/"
        },
        "outputId": "3cb25b3a-83d1-460b-923a-1ab830cce303"
      },
      "outputs": [
        {
          "output_type": "stream",
          "name": "stdout",
          "text": [
            "adivina el Numero -- [0 - 10]: 8\n",
            "Error triste\n",
            "adivina el Numero -- [0 - 10]: 6\n",
            "Error triste\n",
            "adivina el Numero -- [0 - 10]: 5\n",
            "perdiste!!!!!!!!!!!!!!!!\n"
          ]
        }
      ],
      "source": [
        "numero = 10\n",
        "\n",
        "def pedir_confirmacion(msj, reintentos=numero, recordatorio=\"por favor, intente nuevamente\"):\n",
        "    a = 4\n",
        "    while a==4:\n",
        "        ok = int(input(msj))\n",
        "        if ok == 4:\n",
        "            print(\"ganaste!!!!!!!!!!!!!!!!\")\n",
        "            break\n",
        "        reintentos -= 1\n",
        "        if reintentos == 0:\n",
        "            #raise ValueError(\"perdiste\")\n",
        "            print(\"perdiste!!!!!!!!!!!!!!!!\")\n",
        "            break\n",
        "        print(recordatorio)\n",
        "\n",
        "# formas de llamado.\n",
        "#pedir_confirmacion(\"adivina el Numero -- [0 - 10]: \")\n",
        "#pedir_confirmacion(\"adivina el Numero -- [0 - 10]: \", 3)\n",
        "pedir_confirmacion(\"adivina el Numero -- [0 - 10]: \", 3, \"Error triste\")"
      ]
    },
    {
      "cell_type": "markdown",
      "source": [
        "**ADVERTENCIA:** El valor por omisión es evaluado solo una vez. Existe una diferencia cuando el valor por omisión es un objeto mutable."
      ],
      "metadata": {
        "id": "ujwXVNmXu7lQ"
      }
    },
    {
      "cell_type": "code",
      "source": [
        "def f(a, L=[]):\n",
        "    L.append(a)\n",
        "    return L\n",
        "\n",
        "print(f(500))\n",
        "print(f(501))\n",
        "print(f(502))"
      ],
      "metadata": {
        "id": "fv3UEIvovKmP",
        "colab": {
          "base_uri": "https://localhost:8080/"
        },
        "outputId": "648ac15c-a12a-4ad8-ee5f-b41e51e1e483"
      },
      "execution_count": 4,
      "outputs": [
        {
          "output_type": "stream",
          "name": "stdout",
          "text": [
            "[500]\n",
            "[500, 501]\n",
            "[500, 501, 502]\n"
          ]
        }
      ]
    },
    {
      "cell_type": "code",
      "source": [
        "def f(a, L=None):\n",
        "    if L is None:\n",
        "        L = []\n",
        "    L.append(a)\n",
        "    return L\n",
        "\n",
        "print(f(500, [1, 2, 3]))\n",
        "print(f(501))\n",
        "print(f(502))"
      ],
      "metadata": {
        "id": "JjC8-FBHvZW_",
        "colab": {
          "base_uri": "https://localhost:8080/"
        },
        "outputId": "3f10eac5-6d56-493a-943d-0d85c8ebf038"
      },
      "execution_count": 6,
      "outputs": [
        {
          "output_type": "stream",
          "name": "stdout",
          "text": [
            "[1, 2, 3, 500]\n",
            "[501]\n",
            "[502]\n"
          ]
        }
      ]
    },
    {
      "cell_type": "markdown",
      "source": [
        "## Definición de funciones - Palabras claves como argumentos:\n",
        "\n",
        "Las funciones también puede ser llamadas usando argumentos de palabras clave (o argumentos nombrados) de la forma keyword = value. Por ejemplo, la siguiente función:"
      ],
      "metadata": {
        "id": "L6FCFnBcvji6"
      }
    },
    {
      "cell_type": "code",
      "source": [
        "pedir_confirmacion(msj=\"adivina el numero -- [0 - 10]: \", reintentos=3)\n",
        "#pedir_confirmacion(recordatorio=\"Tu casi ...\", msj=\"adivina el numero -- [0 - 10]: \")\n",
        "#pedir_confirmacion(\"adivina el numero -- [0 - 10]: \", recordatorio=\"Tu casi ...\", reintentos=3)\n"
      ],
      "metadata": {
        "id": "t0AU6uIxwXV-",
        "colab": {
          "base_uri": "https://localhost:8080/"
        },
        "outputId": "7e265c07-8d1d-4247-94a4-86580874f063"
      },
      "execution_count": 7,
      "outputs": [
        {
          "output_type": "stream",
          "name": "stdout",
          "text": [
            "adivina el numero -- [0 - 10]: 5\n",
            "por favor, intente nuevamente\n",
            "adivina el numero -- [0 - 10]: 8\n",
            "por favor, intente nuevamente\n",
            "adivina el numero -- [0 - 10]: 4\n",
            "ganaste!!!!!!!!!!!!!!!!\n"
          ]
        }
      ]
    },
    {
      "cell_type": "markdown",
      "source": [
        "Error. argumento posicional luego de uno nombrado"
      ],
      "metadata": {
        "id": "y12SUKzEvq_J"
      }
    },
    {
      "cell_type": "code",
      "source": [
        "pedir_confirmacion(recordatorio=\"Tu casi ...\", reintentos=3, \"adivina el numero -- [0 - 10]: \")"
      ],
      "metadata": {
        "id": "2LfvujBEw38C",
        "colab": {
          "base_uri": "https://localhost:8080/",
          "height": 135
        },
        "outputId": "205d3b64-5eb3-474c-bd21-8b655a75bda9"
      },
      "execution_count": 8,
      "outputs": [
        {
          "output_type": "error",
          "ename": "SyntaxError",
          "evalue": "ignored",
          "traceback": [
            "\u001b[0;36m  File \u001b[0;32m\"<ipython-input-8-c000fffa16f9>\"\u001b[0;36m, line \u001b[0;32m1\u001b[0m\n\u001b[0;31m    pedir_confirmacion(recordatorio=\"Tu casi ...\", reintentos=3, \"adivina el numero -- [0 - 10]: \")\u001b[0m\n\u001b[0m                                                                ^\u001b[0m\n\u001b[0;31mSyntaxError\u001b[0m\u001b[0;31m:\u001b[0m positional argument follows keyword argument\n"
          ]
        }
      ]
    },
    {
      "cell_type": "markdown",
      "source": [
        "## Definición de funciones - Listas de argumentos arbitrarios:\n",
        "\n",
        "Al igual que en otros lenguajes de alto nivel, es posible que una función, espere recibir un número arbitrario de argumentos. Estos argumentos, llegarán a la función en forma de tupla.\n",
        "\n",
        "Para definir argumentos arbitrarios en una función, se antecede al parámetro un asterisco (*):\n",
        "\n",
        "Normalmente estos argumentos de cantidad variables son los últimos en la lista de parámetros formales, porque toman todo el remanente de argumentos que se pasan a la función. Cualquier parámetro que suceda luego del *args será ‘sólo nombrado’.\n"
      ],
      "metadata": {
        "id": "sCw36cbdxJva"
      }
    },
    {
      "cell_type": "code",
      "source": [
        "def funcion_multivalores(separador, *args):\n",
        "    print(args)\n",
        "    for i in args:\n",
        "        print(i)\n",
        "    return separador.join(args)\n",
        "\n",
        "print(funcion_multivalores(\".\", \"juna\", \"bill\", \"pedro\"))"
      ],
      "metadata": {
        "id": "sPsnzKjDxWel",
        "colab": {
          "base_uri": "https://localhost:8080/"
        },
        "outputId": "7bf49b2f-e337-4c59-c012-4d8660afb38c"
      },
      "execution_count": 10,
      "outputs": [
        {
          "output_type": "stream",
          "name": "stdout",
          "text": [
            "('juna', 'bill', 'pedro')\n",
            "juna\n",
            "bill\n",
            "pedro\n",
            "juna.bill.pedro\n"
          ]
        }
      ]
    },
    {
      "cell_type": "markdown",
      "source": [
        "## Definición de funciones - Listas de argumentos arbitrarios:\n",
        "\n",
        "Es posible también, obtener parámetros arbitrarios como pares de clave=valor. En estos casos, al nombre del parámetro deben precederlo dos asteriscos (**):\n"
      ],
      "metadata": {
        "id": "X2xl_OEYxueG"
      }
    },
    {
      "cell_type": "code",
      "source": [
        "def recorrer_parametros_arbitrarios(parametro_fijo, *args, **kwords): # {clave:valor, clave2:valor2}\n",
        "    print(parametro_fijo)\n",
        "    print(args)\n",
        "    for arg in args:\n",
        "        print(arg)\n",
        "    \n",
        "    # los argumentos arbitrarios tipo clave : valor, se recorren como los diccionarios\n",
        "    print(kwords)\n",
        "    for clave in kwords:\n",
        "        print(\"El valor de\", clave, \"es\", kwords[clave])\n",
        "    \n",
        "recorrer_parametros_arbitrarios(10, 15, 20, 25, uno=1, dos=2, tres=3)"
      ],
      "metadata": {
        "id": "8Ig1_UniyBzc",
        "colab": {
          "base_uri": "https://localhost:8080/"
        },
        "outputId": "68acb5da-3c98-441a-ba9c-3160ee7f261e"
      },
      "execution_count": 12,
      "outputs": [
        {
          "output_type": "stream",
          "name": "stdout",
          "text": [
            "10\n",
            "(15, 20, 25)\n",
            "15\n",
            "20\n",
            "25\n",
            "{'uno': 1, 'dos': 2, 'tres': 3}\n",
            "El valor de uno es 1\n",
            "El valor de dos es 2\n",
            "El valor de tres es 3\n"
          ]
        }
      ]
    },
    {
      "cell_type": "markdown",
      "source": [
        "## **Definición de funciones - Desempaquetado de parámetros:**\n",
        "\n",
        "Puede ocurrir, además, una situación inversa, en vez de tener que ingresar los parámetros disponibles de forma separada, se encuentren contenidos en una lista o tupla. En este caso, el signo asterisco (*) deberá preceder al nombre de la lista o tupla que es pasada como parámetro durante la llamada a la función:"
      ],
      "metadata": {
        "id": "GA6Ieklpy47M"
      }
    },
    {
      "cell_type": "code",
      "source": [
        "def recorrer_parametros_arbitrarios(parametro_fijo, *args):\n",
        "    print(\"primer elemento: \", parametro_fijo)\n",
        "    for arg in args:\n",
        "        print(arg)\n",
        "\n",
        "lista = [10, 11, 12, 13, 14]\n",
        "recorrer_parametros_arbitrarios(*lista) # --> recorrer_parametros_arbitrarios(10, 11, 12, 13, 14)"
      ],
      "metadata": {
        "id": "gtyBs4-pzxRc",
        "colab": {
          "base_uri": "https://localhost:8080/"
        },
        "outputId": "74c1cdb7-b38c-4fda-c737-c2b331df3677"
      },
      "execution_count": 13,
      "outputs": [
        {
          "output_type": "stream",
          "name": "stdout",
          "text": [
            "primer elemento:  10\n",
            "11\n",
            "12\n",
            "13\n",
            "14\n"
          ]
        }
      ]
    },
    {
      "cell_type": "markdown",
      "source": [
        "El mismo caso puede darse cuando los valores a ser pasados como parámetros a una función, se encuentren disponibles en un diccionario. Aquí, deberán pasarse a la función, precedidos de dos asteriscos (**):"
      ],
      "metadata": {
        "id": "j8hmZEfn0V3X"
      }
    },
    {
      "cell_type": "code",
      "source": [
        "def calcular(importe, descuento):\n",
        "    return importe - (importe * descuento / 100)\n",
        "\n",
        "data = {\"importe\":1500, \"descuento\":10}\n",
        "print(calcular(**data)) # --> calcular(importe=1500, descuento=10)"
      ],
      "metadata": {
        "id": "BoINKLag0X5-",
        "colab": {
          "base_uri": "https://localhost:8080/"
        },
        "outputId": "3f758c7f-86fb-477d-b420-6668325a0695"
      },
      "execution_count": 15,
      "outputs": [
        {
          "output_type": "stream",
          "name": "stdout",
          "text": [
            "1350.0\n"
          ]
        }
      ]
    },
    {
      "cell_type": "markdown",
      "source": [
        "## **Expresiones lambda:**\n",
        "\n",
        "Son funciones anónimas que pueden ser creadas con la palabra reservada lambda. Las funciones Lambda pueden ser usadas en cualquier lugar donde sea requerido un objeto de tipo función. Están sintácticamente restringidas a una sola expresión. Al igual que las funciones anidadas, las funciones lambda pueden hacer referencia a variables desde el ámbito que la contiene."
      ],
      "metadata": {
        "id": "z73gD5om0xzt"
      }
    },
    {
      "cell_type": "code",
      "source": [
        "cuadrado = lambda x: x*x\n",
        "lista = [1, 2, 3, 4] # range(1, 5)\n",
        "for elemento in lista:\n",
        "    print(cuadrado(elemento))"
      ],
      "metadata": {
        "id": "aePsZVwe0680",
        "colab": {
          "base_uri": "https://localhost:8080/"
        },
        "outputId": "7b965689-6c16-481f-8a76-6d7bb0816c15"
      },
      "execution_count": 16,
      "outputs": [
        {
          "output_type": "stream",
          "name": "stdout",
          "text": [
            "1\n",
            "4\n",
            "9\n",
            "16\n"
          ]
        }
      ]
    },
    {
      "cell_type": "code",
      "source": [
        "def operar(v1, v2, fn):\n",
        "    return fn(v1, v2)\n",
        "\n",
        "resultado = operar(10, 20, lambda x1, x2: x1*x2)\n",
        "print(resultado)"
      ],
      "metadata": {
        "id": "zDfL963k1YtB",
        "colab": {
          "base_uri": "https://localhost:8080/"
        },
        "outputId": "479cd068-3179-4e83-81fa-bbc054b5a19f"
      },
      "execution_count": 17,
      "outputs": [
        {
          "output_type": "stream",
          "name": "stdout",
          "text": [
            "200\n"
          ]
        }
      ]
    },
    {
      "cell_type": "code",
      "source": [
        "area_triangulo = lambda b, h: b*h/2\n",
        "medidas = [(10, 2), (5, 6)]\n",
        "\n",
        "def area_triangulo_calcular(b, h):\n",
        "    return b*h/2\n",
        "\n",
        "for datos in medidas:\n",
        "    base = datos[0]\n",
        "    altura = datos[1]\n",
        "    print(area_triangulo(base, altura))"
      ],
      "metadata": {
        "id": "sQl6_JhG1ulk",
        "colab": {
          "base_uri": "https://localhost:8080/"
        },
        "outputId": "d9b36ce3-6963-4f28-d133-1efe17bc4b1e"
      },
      "execution_count": 18,
      "outputs": [
        {
          "output_type": "stream",
          "name": "stdout",
          "text": [
            "10.0\n",
            "15.0\n"
          ]
        }
      ]
    }
  ]
}