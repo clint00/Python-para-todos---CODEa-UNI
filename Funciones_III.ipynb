{
  "nbformat": 4,
  "nbformat_minor": 0,
  "metadata": {
    "colab": {
      "name": "Funciones III.ipynb",
      "provenance": [],
      "authorship_tag": "ABX9TyNOr2s41LzZO3GtnAAP6+y6",
      "include_colab_link": true
    },
    "kernelspec": {
      "name": "python3",
      "display_name": "Python 3"
    },
    "language_info": {
      "name": "python"
    }
  },
  "cells": [
    {
      "cell_type": "markdown",
      "metadata": {
        "id": "view-in-github",
        "colab_type": "text"
      },
      "source": [
        "<a href=\"https://colab.research.google.com/github/clint00/Python-para-todos---CODEa-UNI/blob/curso_python/Funciones_III.ipynb\" target=\"_parent\"><img src=\"https://colab.research.google.com/assets/colab-badge.svg\" alt=\"Open In Colab\"/></a>"
      ]
    },
    {
      "cell_type": "markdown",
      "source": [
        "## **Definición de funciones - Argumentos con valores por omisión:**\n",
        "\n",
        "\n",
        "Esto crea una función que puede ser llamada con menos argumentos que los que permite.\n",
        "\n",
        "\n",
        "*   Los valores por omisión son  evaluados en el momento de la definición de la función.\n",
        "\n"
      ],
      "metadata": {
        "id": "NNIE7-HHryHP"
      }
    },
    {
      "cell_type": "code",
      "execution_count": null,
      "metadata": {
        "id": "00cH5zTurcor"
      },
      "outputs": [],
      "source": [
        "numero = 10\n",
        "\n",
        "def pedir_confirmacion(msj, reintentos=numero, recordatorio=\"por favor, intente nuevamente\")\n",
        "    a = 4\n",
        "    while a==4:\n",
        "        ok = int(input(msj))\n",
        "        if ok == 4:\n",
        "            print(\"ganaste!!!!!!!!!!!!!!!!\")\n",
        "            break\n",
        "        reintentos -= 1\n",
        "        if reintentos == 0:\n",
        "            raise ValueError(\"perdiste\")\n",
        "        pritn(recordatorio)\n",
        "\n",
        "# formas de llamado.\n",
        "#pedir_confirmacion(\"adivina el Numero -- [0 - 10]: \")\n",
        "#pedir_confirmacion(\"adivina el Numero -- [0 - 10]: \", 5)\n",
        "#pedir_confirmacion(\"adivina el Numero -- [0 - 10]: \", 5, \"Error triste\")"
      ]
    },
    {
      "cell_type": "markdown",
      "source": [
        "**ADVERTENCIA:** El valor por omisión es evaluado solo una vez. Existe una diferencia cuando el valor por omisión es un objeto mutable."
      ],
      "metadata": {
        "id": "ujwXVNmXu7lQ"
      }
    },
    {
      "cell_type": "code",
      "source": [
        "def f(a, L=[]):\n",
        "    L.append(a)\n",
        "    return L\n"
      ],
      "metadata": {
        "id": "fv3UEIvovKmP"
      },
      "execution_count": null,
      "outputs": []
    },
    {
      "cell_type": "code",
      "source": [
        "def f(a, L=None):\n",
        "    if L is None:\n",
        "        L = []\n",
        "    return L\n",
        "    "
      ],
      "metadata": {
        "id": "JjC8-FBHvZW_"
      },
      "execution_count": null,
      "outputs": []
    },
    {
      "cell_type": "markdown",
      "source": [
        "## Definición de funciones - Palabras claves como argumentos:\n",
        "\n",
        "Las funciones también puede ser llamadas usando argumentos de palabras clave (o argumentos nombrados) de la forma keyword = value. Por ejemplo, la siguiente función:"
      ],
      "metadata": {
        "id": "L6FCFnBcvji6"
      }
    },
    {
      "cell_type": "code",
      "source": [
        "pedir_confirmacion(msj=\"adivina el numero -- [0 - 10]: \")\n",
        "pedir_confirmacion(recordatorio=\"Tu casi ...\", msj=\"adivina el numero -- [0 - 10]: \")\n",
        "pedir_confirmacion(\"adivina el numero -- [0 - 10]: \", recordatorio=\"Tu casi ...\", reintentos=3)\n"
      ],
      "metadata": {
        "id": "t0AU6uIxwXV-"
      },
      "execution_count": null,
      "outputs": []
    },
    {
      "cell_type": "markdown",
      "source": [
        "Error. argumento posicional luego de uno nombrado"
      ],
      "metadata": {
        "id": "y12SUKzEvq_J"
      }
    },
    {
      "cell_type": "code",
      "source": [
        "pedir_confirmacion(recordatorio=\"Tu casi ...\", reintentos=3, \"adivina el numero -- [0 - 10]: \")"
      ],
      "metadata": {
        "id": "2LfvujBEw38C"
      },
      "execution_count": null,
      "outputs": []
    },
    {
      "cell_type": "markdown",
      "source": [
        "## Definición de funciones - Listas de argumentos arbitrarios:\n",
        "\n",
        "Al igual que en otros lenguajes de alto nivel, es posible que una función, espere recibir un número arbitrario de argumentos. Estos argumentos, llegarán a la función en forma de tupla.\n",
        "\n",
        "Para definir argumentos arbitrarios en una función, se antecede al parámetro un asterisco (*):\n",
        "\n",
        "Normalmente estos argumentos de cantidad variables son los últimos en la lista de parámetros formales, porque toman todo el remanente de argumentos que se pasan a la función. Cualquier parámetro que suceda luego del *args será ‘sólo nombrado’.\n"
      ],
      "metadata": {
        "id": "sCw36cbdxJva"
      }
    },
    {
      "cell_type": "code",
      "source": [
        "def funcion_multivalores(separador, *args):\n",
        "    for i in args:\n",
        "        print(i)\n",
        "    return separador.join(args)\n",
        "\n",
        "print(funcion_multivalores(\".\", \"juna\", \"bill\", \"pedro\"))"
      ],
      "metadata": {
        "id": "sPsnzKjDxWel"
      },
      "execution_count": null,
      "outputs": []
    },
    {
      "cell_type": "markdown",
      "source": [
        "## Definición de funciones - Listas de argumentos arbitrarios:\n",
        "\n",
        "Es posible también, obtener parámetros arbitrarios como pares de clave=valor. En estos casos, al nombre del parámetro deben precederlo dos asteriscos (**):\n"
      ],
      "metadata": {
        "id": "X2xl_OEYxueG"
      }
    },
    {
      "cell_type": "code",
      "source": [
        "def recorrer_parametros_arbitrarios(parametro_fijo, *args, **kwords):\n",
        "    print(parametro_fijo)\n",
        "    for arg in args:\n",
        "        print(arg)\n",
        "    \n",
        "    # los argumentos arbitrarios tipo clave : valor, se recorren como los diccionarios\n",
        "    for clave in kwords:\n",
        "        print(\"El valor de\", clave, \"es\", kwords[clave])\n",
        "    \n",
        "recorrer_parametros_arbitrarios(10, 50, 20, 10, a=\"uno\", b=\"dos\", c=\"tres\")"
      ],
      "metadata": {
        "id": "8Ig1_UniyBzc"
      },
      "execution_count": null,
      "outputs": []
    },
    {
      "cell_type": "markdown",
      "source": [
        "## **Definición de funciones - Desempaquetado de parámetros:**\n",
        "\n",
        "Puede ocurrir, además, una situación inversa, en vez de tener que ingresar los parámetros disponibles de forma separada, se encuentren contenidos en una lista o tupla. En este caso, el signo asterisco (*) deberá preceder al nombre de la lista o tupla que es pasada como parámetro durante la llamada a la función:"
      ],
      "metadata": {
        "id": "GA6Ieklpy47M"
      }
    },
    {
      "cell_type": "code",
      "source": [
        "def recorrer_parametros_arbitrarios(parametro_fijo, *args):\n",
        "    print(\"primer elemento: \", parametro_fijo)\n",
        "    for arg in args:\n",
        "        print(arg)\n",
        "\n",
        "tupla = (10, 50, 60, 90)\n",
        "recorrer_parametros_arbitrarios(*tupla)\n"
      ],
      "metadata": {
        "id": "gtyBs4-pzxRc"
      },
      "execution_count": null,
      "outputs": []
    },
    {
      "cell_type": "markdown",
      "source": [
        "El mismo caso puede darse cuando los valores a ser pasados como parámetros a una función, se encuentren disponibles en un diccionario. Aquí, deberán pasarse a la función, precedidos de dos asteriscos (**):"
      ],
      "metadata": {
        "id": "j8hmZEfn0V3X"
      }
    },
    {
      "cell_type": "code",
      "source": [
        "def calcular(importe, descuento):\n",
        "    return importe - (importe * descuento / 100)\n",
        "\n",
        "datos = {\"descuento\":10, \"importe\":1500}\n",
        "print(calcular(**datos))"
      ],
      "metadata": {
        "id": "BoINKLag0X5-"
      },
      "execution_count": null,
      "outputs": []
    },
    {
      "cell_type": "markdown",
      "source": [
        "## **Expresiones lambda:**\n",
        "\n",
        "Son funciones anónimas que pueden ser creadas con la palabra reservada lambda. Las funciones Lambda pueden ser usadas en cualquier lugar donde sea requerido un objeto de tipo función. Están sintácticamente restringidas a una sola expresión. Al igual que las funciones anidadas, las funciones lambda pueden hacer referencia a variables desde el ámbito que la contiene."
      ],
      "metadata": {
        "id": "z73gD5om0xzt"
      }
    },
    {
      "cell_type": "code",
      "source": [
        "cuadrado = lambda x: x*x\n",
        "lista = [1, 2, 3, 4] # range(1, 5)\n",
        "for elemento in lista:\n",
        "    print(cuadrado(elemento))"
      ],
      "metadata": {
        "id": "aePsZVwe0680"
      },
      "execution_count": null,
      "outputs": []
    },
    {
      "cell_type": "code",
      "source": [
        "def operar(v1, v2, fn):\n",
        "    return fn(v1, v2)\n",
        "\n",
        "resu1 = operar(10, 3, lambda x1, x2: x1 + x2)\n",
        "print(resu1)"
      ],
      "metadata": {
        "id": "zDfL963k1YtB"
      },
      "execution_count": null,
      "outputs": []
    },
    {
      "cell_type": "code",
      "source": [
        "area_triangulos = lambda b, h: b*h/2\n",
        "medidas = [(10, 2), (5, 6)]\n",
        "for datos in medidas:\n",
        "    base = datos[0]\n",
        "    altura = datos[1]\n",
        "    print(area_triangulo(base, altura))"
      ],
      "metadata": {
        "id": "sQl6_JhG1ulk"
      },
      "execution_count": null,
      "outputs": []
    }
  ]
}