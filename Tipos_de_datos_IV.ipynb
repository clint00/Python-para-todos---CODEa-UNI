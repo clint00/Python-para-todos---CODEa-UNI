{
  "nbformat": 4,
  "nbformat_minor": 0,
  "metadata": {
    "colab": {
      "name": "Tipos de datos IV.ipynb",
      "provenance": [],
      "collapsed_sections": [],
      "authorship_tag": "ABX9TyOq3LMLuA0MMNL2RqJ0sjWE",
      "include_colab_link": true
    },
    "kernelspec": {
      "name": "python3",
      "display_name": "Python 3"
    },
    "language_info": {
      "name": "python"
    }
  },
  "cells": [
    {
      "cell_type": "markdown",
      "metadata": {
        "id": "view-in-github",
        "colab_type": "text"
      },
      "source": [
        "<a href=\"https://colab.research.google.com/github/clint00/Python-para-todos---CODEa-UNI/blob/curso_python/Tipos_de_datos_IV.ipynb\" target=\"_parent\"><img src=\"https://colab.research.google.com/assets/colab-badge.svg\" alt=\"Open In Colab\"/></a>"
      ]
    },
    {
      "cell_type": "markdown",
      "source": [
        "# **Tipos Diccionario**\n",
        "\n",
        "\n",
        "Son tipos de datos que permiten almacenar pares <a><b>clave: valor</b></a>, donde la clave tiene que ser única y de un tipo de dato que no permita ser modificado y el valor puede ser de cualquier tipo de dato visto hasta ahora.\n",
        "\n",
        "\n",
        "*   **Clave:** pueden ser del tipo de dato tupla, texto, numérico y booleano.\n",
        "*   **Valor:** puede ser numérico, texto, tuplas, listas o hasta otros diccionarios.\n",
        "\n"
      ],
      "metadata": {
        "id": "DUjaR3uOtj3k"
      }
    },
    {
      "cell_type": "code",
      "source": [
        "var_dicc = {\n",
        "    \"key1\": [\"uno\", \"dos\", \"tres\"],\n",
        "    \"key2\": [1, 2, 3],\n",
        "    \"key3\": (\"uno\", \"dos\", \"tres\"),\n",
        "    \"key4\": (1, 2, 3),\n",
        "    \"key5\": \"text\",\n",
        "    \"key6\": True,\n",
        "    \"key7\": 30,\n",
        "    \"key8\": 30.0005,\n",
        "    \"key9\": {\"key1\": [1, 2, 3.5, \"Mina justa\"]},\n",
        "}\n",
        "\n",
        "var_dicc_2 = {\n",
        "    False: [\"uno\", \"dos\", \"tres\"],\n",
        "    True: (1, 2, 3),\n",
        "    (1, \"key1\"): \"texto\",\n",
        "    10000: True,\n",
        "    10.234: True,\n",
        "}\n",
        "\n",
        "print(var_dicc)\n",
        "print(\"***\")\n",
        "print(var_dicc[\"key9\"][\"key1\"][-1][0])"
      ],
      "metadata": {
        "colab": {
          "base_uri": "https://localhost:8080/"
        },
        "id": "lcQFwqmKvee1",
        "outputId": "581cd777-5b60-409e-8608-ed70086a708b"
      },
      "execution_count": 9,
      "outputs": [
        {
          "output_type": "stream",
          "name": "stdout",
          "text": [
            "{'key1': ['uno', 'dos', 'tres'], 'key2': [1, 2, 3], 'key3': ('uno', 'dos', 'tres'), 'key4': (1, 2, 3), 'key5': 'text', 'key6': True, 'key7': 30, 'key8': 30.0005, 'key9': {'key1': [1, 2, 3.5, 'Mina justa']}}\n",
            "***\n",
            "M\n"
          ]
        }
      ]
    },
    {
      "cell_type": "code",
      "execution_count": null,
      "metadata": {
        "id": "VIRPov60tXa1"
      },
      "outputs": [],
      "source": [
        "VDic1 = {1: (True, False), 2: \"uno\", 3: set(\"hola chicos\"), 4: frozenset([\"uno\", \"dos\"])}\n",
        "VDic2 = {(1, 2): [1, 2, 3, 4, 5, 6], 6: {\"key1\": 12565, \"key2\": 1556}, 1:10}\n",
        "\n",
        "# Permite crear un diccionario con dos elementos iterable con un mismo numero de datos\n",
        "dict(zip([1, 2, 3, 4, 5], (\"uno\", \"dos\", \"tres\", True, False)))\n",
        "\n",
        "# Devuelve una lista de tuplas (clave: valor)\n",
        "list(VDic1.items())\n",
        "\n",
        "# Retorna una lista de las claves de nuestro diccionario\n",
        "list(VDic1.keys())\n",
        "\n",
        "#Retorna una lista de los valores de nuestro diccionario\n",
        "list(VDic1.values())\n",
        "\n",
        "#Elimina todos los elementos de un diccionario\n",
        "VDic1.clear()\n",
        "\n",
        "#Crea un diccionario - clave elemento iterable y un valor\n",
        "dict.fromkeys(['a','b','c','d'],1)\n",
        "\n",
        "#Devuelve el valor de una clave(Clave)\n",
        "VDic1.get(1)\n",
        "\n",
        "#Recibe una clave, elimina esta y devuelve su valor. Si no lo encuentra da error\n",
        "VDic1.pop(1)\n",
        "\n",
        "#Recibe otro diccionario, claves iguales se actualizan sino se agregan\n",
        "VDic1.update(VDic2)\n",
        "\n",
        "#Como agregamos una clave:valor\n",
        "VDic1[\"clave nueva\"] = \"Soy el exito...\"\n",
        "\n",
        "#Construir un diccionario y=f(x) --- dict([(x, x**2) for x in (2, 4, 6)]) --- {2:4, 4:16, 6:36}\n",
        "dict([(x, x**2) for x in (2, 4, 6)])\n",
        "\n",
        "#Elimina una clave:Valor del diccionario\n",
        "del VDic1[1] \n",
        "\n",
        "\n"
      ]
    },
    {
      "cell_type": "markdown",
      "source": [
        "# **Tipos Conjuntos**\n",
        "Un conjunto es una colección desordenada sin elementos duplicados. Los usos básicos incluyen pruebas de membresía y eliminación de entradas duplicadas. \n",
        "\n",
        "<br>\n",
        "\n",
        "*   **set:** \n",
        "Un conjunto es una colección no ordenada de objetos únicos. Los datos tipo set permiten ser modificadas después de ser creadas. \n",
        "\n",
        "\n",
        "<br>\n",
        "\n",
        "*   **frozenset:**\n",
        "comparte todas las operaciones de conjuntos provistas en este artículo a excepción de aquellas que implican alterar sus elementos.\n",
        "\n",
        "<br>\n",
        "\n",
        "<b>Nota:</b> un conjunto no puede incluir objetos mutables como listas, diccionarios, e incluso otros conjuntos.\n",
        "\n",
        "### **American Standard Code for Information Interchange <a target=\"_blanck\" href=\"https://elcodigoascii.com.ar/\">IR</a>**\n",
        "\n"
      ],
      "metadata": {
        "id": "o8AreiX65uP0"
      }
    },
    {
      "cell_type": "code",
      "source": [
        "VariableSet = {'Mina', \"Tajo\", 5, True, 12.34, (100, 5.2265)}\n",
        "VSet = {'Tajo', 5, True, 12.34}\n",
        "\n",
        "#Permite adherir un valor al conjunto\n",
        "VariableSet.add(\"x\")\n",
        "\n",
        "#Elimina un valor del conjunto – da un error si no existe\n",
        "VariableSet.discart(\"x\")\n",
        "\n",
        "#Elimina todos los elementos del conjunto\n",
        "VariableSet.pop()\n",
        "\n",
        "#VSet es un subconjunto de Variableset \n",
        "VSet.issubset(VariableSet)\n",
        "\n",
        "#VariableSet es un superconjunto de Vset\n",
        "VSet.issuperset(VariableSet)\n",
        "\n",
        "#VariableSet no se intersecta con Vset\n",
        "VSet.isdisjoin(VariableSet)\n",
        "\n",
        "#Union exclusiva(^ : Intercalación )(Alt 94)\n",
        "VSet.symmetric_difference(VariableSet)\n",
        "\n",
        "#Intersección de conjuntos (&)(Alt 38)\n",
        "VariableSet.intersection(VSet)\n",
        "\n",
        "#Union de conjuntos (|)(Alt 124)\n",
        "VariableSet.union (VSet)\n",
        "\n",
        "#Diferencia de conjuntos (-)\n",
        "VariableSet.difference(VSet)\n",
        "\n",
        "#Compara si dos conjuntos son iguales (==)\n",
        "VariableSet == VSet\n"
      ],
      "metadata": {
        "id": "92BWfz4l_ziS"
      },
      "execution_count": null,
      "outputs": []
    },
    {
      "cell_type": "code",
      "source": [
        ""
      ],
      "metadata": {
        "id": "vsdWExGi_CCN"
      },
      "execution_count": null,
      "outputs": []
    }
  ]
}