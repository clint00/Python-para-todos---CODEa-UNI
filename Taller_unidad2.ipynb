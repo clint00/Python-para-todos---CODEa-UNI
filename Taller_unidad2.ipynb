{
  "nbformat": 4,
  "nbformat_minor": 0,
  "metadata": {
    "colab": {
      "name": "Taller unidad2.ipynb",
      "provenance": [],
      "authorship_tag": "ABX9TyNzXVUOXSKAPcPWfXlA8eIB",
      "include_colab_link": true
    },
    "kernelspec": {
      "name": "python3",
      "display_name": "Python 3"
    },
    "language_info": {
      "name": "python"
    }
  },
  "cells": [
    {
      "cell_type": "markdown",
      "metadata": {
        "id": "view-in-github",
        "colab_type": "text"
      },
      "source": [
        "<a href=\"https://colab.research.google.com/github/clint00/Python-para-todos---CODEa-UNI/blob/curso_python/Taller_unidad2.ipynb\" target=\"_parent\"><img src=\"https://colab.research.google.com/assets/colab-badge.svg\" alt=\"Open In Colab\"/></a>"
      ]
    },
    {
      "cell_type": "markdown",
      "source": [
        "Desarrollado por Bill Maquin Valladares para la comunidad CODEa UNI"
      ],
      "metadata": {
        "id": "6DZUBLDX3ww6"
      }
    },
    {
      "cell_type": "code",
      "execution_count": 3,
      "metadata": {
        "id": "fkHnkX4E3iX4"
      },
      "outputs": [],
      "source": [
        "# Definimos la base de datos\n",
        "\n",
        "import sqlite3 as sq\n",
        "con = sq.connect(\"mina_justa.sqlite3\")\n",
        "\n",
        "con.execute(\"PRAGMA foreign_keys=ON\")\n",
        "con.execute(\"create table cargos(id integer primary key autoincrement, cargo text, descripcion text)\")\n",
        "con.execute(\"create table usuarios(id integer primary key autoincrement, dni text, nombre text, apellidos text, cargo integer, sueldo real, foreign key(cargo) references cargos(id))\")\n",
        "\n",
        "con.execute(\"insert into cargos(cargo, descripcion) values ('junior', 'resp 1')\")\n",
        "con.execute(\"insert into cargos(cargo, descripcion) values ('practicante', 'resp 2')\")\n",
        "con.execute(\"insert into cargos(cargo, descripcion) values ('gerente', 'resp 3')\")\n",
        "\n",
        "con.close()\n",
        "\n",
        "\n"
      ]
    },
    {
      "cell_type": "code",
      "source": [
        "# Definimos las funciones base\n",
        "\n",
        "\n"
      ],
      "metadata": {
        "id": "iGdk82mK4R-b"
      },
      "execution_count": null,
      "outputs": []
    },
    {
      "cell_type": "code",
      "source": [
        "# Definimos la función principal\n",
        "\n",
        "\n"
      ],
      "metadata": {
        "id": "uqdeuG5a4sav"
      },
      "execution_count": null,
      "outputs": []
    }
  ]
}