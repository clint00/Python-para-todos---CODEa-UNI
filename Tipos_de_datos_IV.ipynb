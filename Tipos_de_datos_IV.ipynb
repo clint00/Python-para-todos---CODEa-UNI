{
  "nbformat": 4,
  "nbformat_minor": 0,
  "metadata": {
    "colab": {
      "name": "Tipos de datos IV.ipynb",
      "provenance": [],
      "collapsed_sections": [],
      "authorship_tag": "ABX9TyPndLOQh/ToDkpnEIEe1v6p",
      "include_colab_link": true
    },
    "kernelspec": {
      "name": "python3",
      "display_name": "Python 3"
    },
    "language_info": {
      "name": "python"
    }
  },
  "cells": [
    {
      "cell_type": "markdown",
      "metadata": {
        "id": "view-in-github",
        "colab_type": "text"
      },
      "source": [
        "<a href=\"https://colab.research.google.com/github/clint00/Python-para-todos---CODEa-UNI/blob/curso_python/Tipos_de_datos_IV.ipynb\" target=\"_parent\"><img src=\"https://colab.research.google.com/assets/colab-badge.svg\" alt=\"Open In Colab\"/></a>"
      ]
    },
    {
      "cell_type": "markdown",
      "source": [
        "# **Tipos Diccionario**\n",
        "\n",
        "\\\n",
        "\n",
        "Son tipos de datos que permiten almacenar **`pares clave: valor`**, donde la clave tiene que ser única y de un tipo de dato que no permita ser modificado y el valor puede ser de cualquier tipo de dato visto hasta ahora.\n",
        "\n",
        "\n",
        "\\\n",
        "**Clave:** pueden ser del tipo de dato tupla, texto, numérico y booleano.\n",
        "\n",
        "**Valor:** puede ser numérico, texto, tuplas, listas o hasta otros diccionarios.\n"
      ],
      "metadata": {
        "id": "DUjaR3uOtj3k"
      }
    },
    {
      "cell_type": "code",
      "source": [
        "var_dicc = {\n",
        "    \"key\": [\"uno\", \"dos\", \"tres\"],\n",
        "    \n",
        "}"
      ],
      "metadata": {
        "id": "lcQFwqmKvee1"
      },
      "execution_count": null,
      "outputs": []
    },
    {
      "cell_type": "code",
      "execution_count": null,
      "metadata": {
        "id": "VIRPov60tXa1"
      },
      "outputs": [],
      "source": [
        ""
      ]
    }
  ]
}