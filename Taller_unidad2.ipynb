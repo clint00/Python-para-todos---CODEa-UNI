{
  "nbformat": 4,
  "nbformat_minor": 0,
  "metadata": {
    "colab": {
      "name": "Taller unidad2.ipynb",
      "provenance": [],
      "authorship_tag": "ABX9TyNlcwfRZywAC88GoIhW7ca4",
      "include_colab_link": true
    },
    "kernelspec": {
      "name": "python3",
      "display_name": "Python 3"
    },
    "language_info": {
      "name": "python"
    }
  },
  "cells": [
    {
      "cell_type": "markdown",
      "metadata": {
        "id": "view-in-github",
        "colab_type": "text"
      },
      "source": [
        "<a href=\"https://colab.research.google.com/github/clint00/Python-para-todos---CODEa-UNI/blob/curso_python/Taller_unidad2.ipynb\" target=\"_parent\"><img src=\"https://colab.research.google.com/assets/colab-badge.svg\" alt=\"Open In Colab\"/></a>"
      ]
    },
    {
      "cell_type": "markdown",
      "source": [
        "Desarrollado por Bill Maquin Valladares para la comunidad CODEa UNI"
      ],
      "metadata": {
        "id": "6DZUBLDX3ww6"
      }
    },
    {
      "cell_type": "code",
      "execution_count": 15,
      "metadata": {
        "id": "fkHnkX4E3iX4"
      },
      "outputs": [],
      "source": [
        "# Definimos la base de datos\n",
        "\n",
        "import sqlite3 as sq\n",
        "con = sq.connect(\"mina_justa.sqlite3\")\n",
        "\n",
        "con.execute(\"PRAGMA foreign_keys=ON\")\n",
        "con.execute(\"create table cargos(id integer primary key autoincrement, cargo text, descripcion text)\")\n",
        "con.execute(\"create table usuarios(id integer primary key autoincrement, dni text, nombre text, apellidos text, cargo integer, sueldo real, foreign key(cargo) references cargos(id))\")\n",
        "\n",
        "con.execute(\"insert into cargos(cargo, descripcion) values ('junior', 'resp 1')\")\n",
        "con.execute(\"insert into cargos(cargo, descripcion) values ('practicante', 'resp 2')\")\n",
        "con.execute(\"insert into cargos(cargo, descripcion) values ('gerente', 'resp 3')\")\n",
        "con.commit()\n",
        "con.close()"
      ]
    },
    {
      "cell_type": "code",
      "source": [
        "con = sq.connect(\"mina_justa.sqlite3\")\n",
        "cur = con.execute(\"select * from cargos\")\n",
        "print(cur.fetchall())\n",
        "con.close()\n"
      ],
      "metadata": {
        "id": "kU_mkNyF3dep",
        "outputId": "bf8933cf-2fc6-4bda-c6cc-8bf6defc2ede",
        "colab": {
          "base_uri": "https://localhost:8080/"
        }
      },
      "execution_count": 16,
      "outputs": [
        {
          "output_type": "stream",
          "name": "stdout",
          "text": [
            "[(1, 'junior', 'resp 1'), (2, 'practicante', 'resp 2'), (3, 'gerente', 'resp 3')]\n"
          ]
        }
      ]
    },
    {
      "cell_type": "code",
      "source": [
        "# Definimos las funciones agregar - eliminar - (actualizar - tarea para ustedes)\n",
        "def registrar_usuario(dni, nombre, apellidos, cargo, sueldo):\n",
        "    con = sq.connect(\"mina_justa.sqlite3\")\n",
        "    con.execute(\"PRAGMA foreign_keys=ON\")\n",
        "    con.execute(f\"insert into usuarios(dni, nombre, apellidos, cargo, sueldo) values ('{dni}', '{nombre}', '{apellidos}', {cargo}, {sueldo})\")\n",
        "    con.commit()\n",
        "    con.close()\n",
        "\n",
        "def validar_dni(dni):\n",
        "    resultado = ()\n",
        "    con = sq.connect(\"mina_justa.sqlite3\")\n",
        "    #con.execute(f\"select * from usuarios where dni='{dni}'\")\n",
        "    #con.execute(f\"select * from usuarios where dni=?\", (dni,))\n",
        "    cur = con.execute(f\"select * from usuarios where dni=?\", (dni,))\n",
        "    resultado = cur.fetchone()\n",
        "    con.close()\n",
        "    return resultado\n",
        "\n",
        "def elimnar_usuario(dni):\n",
        "    con = sq.connect(\"mina_justa.sqlite3\")\n",
        "    con.execute(f\"delete from usuarios where dni=?\", (dni,))\n",
        "    con.commit()\n",
        "    con.close()\n",
        "\n",
        "def ejecutar_retornar_valores(ejecutar):\n",
        "    resultado = ()\n",
        "    con = sq.connect(\"mina_justa.sqlite3\")\n",
        "    cur = con.execute(ejecutar)\n",
        "    resultado = cur.fetchall()\n",
        "    con.close()\n",
        "    return resultado\n",
        "\n",
        "\n"
      ],
      "metadata": {
        "id": "iGdk82mK4R-b"
      },
      "execution_count": 6,
      "outputs": []
    },
    {
      "cell_type": "code",
      "source": [
        "# Definimos las opciones en funciones y la funcion principal\n",
        "def menu_prin():\n",
        "    val_opciones = -1\n",
        "    print(\"##############################################\")\n",
        "    print(\"1.- Registrar un trajador: \")\n",
        "    print(\"2.- Despedir un trajador: \")\n",
        "    print(\"3.- Calcular el costo fijo de planilla: \")\n",
        "    print(\"0.- Terminar el programa: \")\n",
        "    print(\"##############################################\")\n",
        "    opcion = input(\"Elija una opcion: \")\n",
        "\n",
        "    if opcion.isdigit():\n",
        "        opcion = int(opcion)\n",
        "        if opcion not in [0, 1, 2, 3]:\n",
        "            print(\"Elija una opcion valida\")\n",
        "        else:\n",
        "           val_opciones = opcion \n",
        "\n",
        "    else:\n",
        "        print(\"Elija una opcion valida\")\n",
        "    \n",
        "    return val_opciones\n",
        "\n",
        "def opcion1():\n",
        "    msj = \"\"\n",
        "    dni = input(\"Ingrese su DNI: \")\n",
        "    nombre = input(\"Ingrese su nombre: \")\n",
        "    apellidos = input(\"Ingrese su apellidos: \")\n",
        "    cargo = input(\"\"\"Ingrese su cargo: \\n\n",
        "    1.- Junior\\n\n",
        "    2.- Practicante\\n\n",
        "    3.- Gerente\\n\n",
        "    \"\"\")\n",
        "    sueldo = input(\"Ingrese su sueldo: \")\n",
        "\n",
        "    if cargo.isdigit():\n",
        "        cargo = int(cargo)\n",
        "        if cargo not in [1, 2, 3]:\n",
        "            print(\"Elija una cargo valido\")\n",
        "            return\n",
        "\n",
        "    else:\n",
        "        print(\"Elija un cargo valido - no correponde el formato\")\n",
        "        return\n",
        "\n",
        "    if not dni.isdigit():\n",
        "        msj = msj + \"Formato no valido DNI\\n\"\n",
        "    if not nombre.isalpha():\n",
        "        msj = msj + \"Formato no valido NOMBRE\\n\"\n",
        "    if dni.isdigit() and nombre.isalnum() and apellidos.isalpha() and sueldo.isdecimal():\n",
        "        registrar_usuario(dni, nombre, apellidos, cargo, float(sueldo))\n",
        "        print(\"se registro correctamente.\")\n",
        "    else:\n",
        "        print(\"no se registro trabajador - ERROR\")\n",
        "        print(msj)\n",
        "\n",
        "def opcion2():\n",
        "    dni = input(\"Ingrese su DNI: \")\n",
        "    if dni.isdigit():\n",
        "        if len(validar_dni(dni)) > 0:\n",
        "            elimnar_usuario(dni)\n",
        "            print(\"Empleado eliminado correctamente\")\n",
        "        else:\n",
        "            print(\"El DNI no existe en nuestra base de datos\")\n",
        "    else:\n",
        "        print(\"ingrese el DNI en un formato correcto.\")\n",
        "\n",
        "def opcion3():\n",
        "    suma = 0\n",
        "    for sueldo in ejecutar_retornar_valores(\"select sueldo from usuarios\"): # [(sueldo1), (sueldo2)]\n",
        "        suma = suma + sueldo[0]\n",
        "    print(\"el costo fijo de planilla.\"+f\"/S.{suma}\")\n",
        "\n",
        "def bucle_prin():\n",
        "    while True:\n",
        "        opcion = menu_prin()\n",
        "        if opcion == -1:\n",
        "            continue\n",
        "        if opcion == 1:\n",
        "            opcion1()\n",
        "        elif opcion == 2:\n",
        "            opcion2()\n",
        "        elif opcion == 3:\n",
        "            opcion3()\n",
        "        elif opcion == 0:\n",
        "            break\n"
      ],
      "metadata": {
        "id": "uqdeuG5a4sav"
      },
      "execution_count": 19,
      "outputs": []
    },
    {
      "cell_type": "code",
      "source": [
        "bucle_prin()"
      ],
      "metadata": {
        "id": "HmknNEycuCl1",
        "outputId": "3883432f-c445-4b94-b217-1b232819b0ec",
        "colab": {
          "base_uri": "https://localhost:8080/",
          "height": 1000
        }
      },
      "execution_count": 20,
      "outputs": [
        {
          "output_type": "stream",
          "name": "stdout",
          "text": [
            "##############################################\n",
            "1.- Registrar un trajador: \n",
            "2.- Despedir un trajador: \n",
            "3.- Calcular el costo fijo de planilla: \n",
            "0.- Terminar el programa: \n",
            "##############################################\n",
            "Elija una opcion: 3\n",
            "el costo fijo de planilla./S.5000.0\n",
            "##############################################\n",
            "1.- Registrar un trajador: \n",
            "2.- Despedir un trajador: \n",
            "3.- Calcular el costo fijo de planilla: \n",
            "0.- Terminar el programa: \n",
            "##############################################\n",
            "Elija una opcion: 1\n",
            "Ingrese su DNI: juan\n",
            "Ingrese su nombre: martinez\n",
            "Ingrese su apellidos: martinez\n",
            "Ingrese su cargo: \n",
            "\n",
            "    1.- Junior\n",
            "\n",
            "    2.- Practicante\n",
            "\n",
            "    3.- Gerente\n",
            "\n",
            "    2\n",
            "Ingrese su sueldo: 5000\n",
            "no se registro trabajador - ERROR\n",
            "Formato no valido DNI\n",
            "\n",
            "##############################################\n",
            "1.- Registrar un trajador: \n",
            "2.- Despedir un trajador: \n",
            "3.- Calcular el costo fijo de planilla: \n",
            "0.- Terminar el programa: \n",
            "##############################################\n",
            "Elija una opcion: 1\n",
            "Ingrese su DNI: 466\n",
            "Ingrese su nombre: juan\n",
            "Ingrese su apellidos: martinez\n",
            "Ingrese su cargo: \n",
            "\n",
            "    1.- Junior\n",
            "\n",
            "    2.- Practicante\n",
            "\n",
            "    3.- Gerente\n",
            "\n",
            "    1\n",
            "Ingrese su sueldo: 5000\n",
            "se registro correctamente.\n",
            "##############################################\n",
            "1.- Registrar un trajador: \n",
            "2.- Despedir un trajador: \n",
            "3.- Calcular el costo fijo de planilla: \n",
            "0.- Terminar el programa: \n",
            "##############################################\n",
            "Elija una opcion: 3\n",
            "el costo fijo de planilla./S.10000.0\n",
            "##############################################\n",
            "1.- Registrar un trajador: \n",
            "2.- Despedir un trajador: \n",
            "3.- Calcular el costo fijo de planilla: \n",
            "0.- Terminar el programa: \n",
            "##############################################\n",
            "Elija una opcion: 2\n",
            "Ingrese su DNI: 455\n",
            "Empleado eliminado correctamente\n",
            "##############################################\n",
            "1.- Registrar un trajador: \n",
            "2.- Despedir un trajador: \n",
            "3.- Calcular el costo fijo de planilla: \n",
            "0.- Terminar el programa: \n",
            "##############################################\n",
            "Elija una opcion: 3\n",
            "el costo fijo de planilla./S.5000.0\n",
            "##############################################\n",
            "1.- Registrar un trajador: \n",
            "2.- Despedir un trajador: \n",
            "3.- Calcular el costo fijo de planilla: \n",
            "0.- Terminar el programa: \n",
            "##############################################\n"
          ]
        },
        {
          "output_type": "error",
          "ename": "KeyboardInterrupt",
          "evalue": "ignored",
          "traceback": [
            "\u001b[0;31m---------------------------------------------------------------------------\u001b[0m",
            "\u001b[0;31mKeyboardInterrupt\u001b[0m                         Traceback (most recent call last)",
            "\u001b[0;32m/usr/local/lib/python3.7/dist-packages/ipykernel/kernelbase.py\u001b[0m in \u001b[0;36m_input_request\u001b[0;34m(self, prompt, ident, parent, password)\u001b[0m\n\u001b[1;32m    728\u001b[0m             \u001b[0;32mtry\u001b[0m\u001b[0;34m:\u001b[0m\u001b[0;34m\u001b[0m\u001b[0;34m\u001b[0m\u001b[0m\n\u001b[0;32m--> 729\u001b[0;31m                 \u001b[0mident\u001b[0m\u001b[0;34m,\u001b[0m \u001b[0mreply\u001b[0m \u001b[0;34m=\u001b[0m \u001b[0mself\u001b[0m\u001b[0;34m.\u001b[0m\u001b[0msession\u001b[0m\u001b[0;34m.\u001b[0m\u001b[0mrecv\u001b[0m\u001b[0;34m(\u001b[0m\u001b[0mself\u001b[0m\u001b[0;34m.\u001b[0m\u001b[0mstdin_socket\u001b[0m\u001b[0;34m,\u001b[0m \u001b[0;36m0\u001b[0m\u001b[0;34m)\u001b[0m\u001b[0;34m\u001b[0m\u001b[0;34m\u001b[0m\u001b[0m\n\u001b[0m\u001b[1;32m    730\u001b[0m             \u001b[0;32mexcept\u001b[0m \u001b[0mException\u001b[0m\u001b[0;34m:\u001b[0m\u001b[0;34m\u001b[0m\u001b[0;34m\u001b[0m\u001b[0m\n",
            "\u001b[0;32m/usr/local/lib/python3.7/dist-packages/jupyter_client/session.py\u001b[0m in \u001b[0;36mrecv\u001b[0;34m(self, socket, mode, content, copy)\u001b[0m\n\u001b[1;32m    802\u001b[0m         \u001b[0;32mtry\u001b[0m\u001b[0;34m:\u001b[0m\u001b[0;34m\u001b[0m\u001b[0;34m\u001b[0m\u001b[0m\n\u001b[0;32m--> 803\u001b[0;31m             \u001b[0mmsg_list\u001b[0m \u001b[0;34m=\u001b[0m \u001b[0msocket\u001b[0m\u001b[0;34m.\u001b[0m\u001b[0mrecv_multipart\u001b[0m\u001b[0;34m(\u001b[0m\u001b[0mmode\u001b[0m\u001b[0;34m,\u001b[0m \u001b[0mcopy\u001b[0m\u001b[0;34m=\u001b[0m\u001b[0mcopy\u001b[0m\u001b[0;34m)\u001b[0m\u001b[0;34m\u001b[0m\u001b[0;34m\u001b[0m\u001b[0m\n\u001b[0m\u001b[1;32m    804\u001b[0m         \u001b[0;32mexcept\u001b[0m \u001b[0mzmq\u001b[0m\u001b[0;34m.\u001b[0m\u001b[0mZMQError\u001b[0m \u001b[0;32mas\u001b[0m \u001b[0me\u001b[0m\u001b[0;34m:\u001b[0m\u001b[0;34m\u001b[0m\u001b[0;34m\u001b[0m\u001b[0m\n",
            "\u001b[0;32m/usr/local/lib/python3.7/dist-packages/zmq/sugar/socket.py\u001b[0m in \u001b[0;36mrecv_multipart\u001b[0;34m(self, flags, copy, track)\u001b[0m\n\u001b[1;32m    624\u001b[0m         \"\"\"\n\u001b[0;32m--> 625\u001b[0;31m         \u001b[0mparts\u001b[0m \u001b[0;34m=\u001b[0m \u001b[0;34m[\u001b[0m\u001b[0mself\u001b[0m\u001b[0;34m.\u001b[0m\u001b[0mrecv\u001b[0m\u001b[0;34m(\u001b[0m\u001b[0mflags\u001b[0m\u001b[0;34m,\u001b[0m \u001b[0mcopy\u001b[0m\u001b[0;34m=\u001b[0m\u001b[0mcopy\u001b[0m\u001b[0;34m,\u001b[0m \u001b[0mtrack\u001b[0m\u001b[0;34m=\u001b[0m\u001b[0mtrack\u001b[0m\u001b[0;34m)\u001b[0m\u001b[0;34m]\u001b[0m\u001b[0;34m\u001b[0m\u001b[0;34m\u001b[0m\u001b[0m\n\u001b[0m\u001b[1;32m    626\u001b[0m         \u001b[0;31m# have first part already, only loop while more to receive\u001b[0m\u001b[0;34m\u001b[0m\u001b[0;34m\u001b[0m\u001b[0;34m\u001b[0m\u001b[0m\n",
            "\u001b[0;32mzmq/backend/cython/socket.pyx\u001b[0m in \u001b[0;36mzmq.backend.cython.socket.Socket.recv\u001b[0;34m()\u001b[0m\n",
            "\u001b[0;32mzmq/backend/cython/socket.pyx\u001b[0m in \u001b[0;36mzmq.backend.cython.socket.Socket.recv\u001b[0;34m()\u001b[0m\n",
            "\u001b[0;32mzmq/backend/cython/socket.pyx\u001b[0m in \u001b[0;36mzmq.backend.cython.socket._recv_copy\u001b[0;34m()\u001b[0m\n",
            "\u001b[0;32m/usr/local/lib/python3.7/dist-packages/zmq/backend/cython/checkrc.pxd\u001b[0m in \u001b[0;36mzmq.backend.cython.checkrc._check_rc\u001b[0;34m()\u001b[0m\n",
            "\u001b[0;31mKeyboardInterrupt\u001b[0m: ",
            "\nDuring handling of the above exception, another exception occurred:\n",
            "\u001b[0;31mKeyboardInterrupt\u001b[0m                         Traceback (most recent call last)",
            "\u001b[0;32m<ipython-input-20-18b20291f500>\u001b[0m in \u001b[0;36m<module>\u001b[0;34m()\u001b[0m\n\u001b[0;32m----> 1\u001b[0;31m \u001b[0mbucle_prin\u001b[0m\u001b[0;34m(\u001b[0m\u001b[0;34m)\u001b[0m\u001b[0;34m\u001b[0m\u001b[0;34m\u001b[0m\u001b[0m\n\u001b[0m",
            "\u001b[0;32m<ipython-input-19-34e0a1c38edd>\u001b[0m in \u001b[0;36mbucle_prin\u001b[0;34m()\u001b[0m\n\u001b[1;32m     74\u001b[0m \u001b[0;32mdef\u001b[0m \u001b[0mbucle_prin\u001b[0m\u001b[0;34m(\u001b[0m\u001b[0;34m)\u001b[0m\u001b[0;34m:\u001b[0m\u001b[0;34m\u001b[0m\u001b[0;34m\u001b[0m\u001b[0m\n\u001b[1;32m     75\u001b[0m     \u001b[0;32mwhile\u001b[0m \u001b[0;32mTrue\u001b[0m\u001b[0;34m:\u001b[0m\u001b[0;34m\u001b[0m\u001b[0;34m\u001b[0m\u001b[0m\n\u001b[0;32m---> 76\u001b[0;31m         \u001b[0mopcion\u001b[0m \u001b[0;34m=\u001b[0m \u001b[0mmenu_prin\u001b[0m\u001b[0;34m(\u001b[0m\u001b[0;34m)\u001b[0m\u001b[0;34m\u001b[0m\u001b[0;34m\u001b[0m\u001b[0m\n\u001b[0m\u001b[1;32m     77\u001b[0m         \u001b[0;32mif\u001b[0m \u001b[0mopcion\u001b[0m \u001b[0;34m==\u001b[0m \u001b[0;34m-\u001b[0m\u001b[0;36m1\u001b[0m\u001b[0;34m:\u001b[0m\u001b[0;34m\u001b[0m\u001b[0;34m\u001b[0m\u001b[0m\n\u001b[1;32m     78\u001b[0m             \u001b[0;32mcontinue\u001b[0m\u001b[0;34m\u001b[0m\u001b[0;34m\u001b[0m\u001b[0m\n",
            "\u001b[0;32m<ipython-input-19-34e0a1c38edd>\u001b[0m in \u001b[0;36mmenu_prin\u001b[0;34m()\u001b[0m\n\u001b[1;32m      8\u001b[0m     \u001b[0mprint\u001b[0m\u001b[0;34m(\u001b[0m\u001b[0;34m\"0.- Terminar el programa: \"\u001b[0m\u001b[0;34m)\u001b[0m\u001b[0;34m\u001b[0m\u001b[0;34m\u001b[0m\u001b[0m\n\u001b[1;32m      9\u001b[0m     \u001b[0mprint\u001b[0m\u001b[0;34m(\u001b[0m\u001b[0;34m\"##############################################\"\u001b[0m\u001b[0;34m)\u001b[0m\u001b[0;34m\u001b[0m\u001b[0;34m\u001b[0m\u001b[0m\n\u001b[0;32m---> 10\u001b[0;31m     \u001b[0mopcion\u001b[0m \u001b[0;34m=\u001b[0m \u001b[0minput\u001b[0m\u001b[0;34m(\u001b[0m\u001b[0;34m\"Elija una opcion: \"\u001b[0m\u001b[0;34m)\u001b[0m\u001b[0;34m\u001b[0m\u001b[0;34m\u001b[0m\u001b[0m\n\u001b[0m\u001b[1;32m     11\u001b[0m \u001b[0;34m\u001b[0m\u001b[0m\n\u001b[1;32m     12\u001b[0m     \u001b[0;32mif\u001b[0m \u001b[0mopcion\u001b[0m\u001b[0;34m.\u001b[0m\u001b[0misdigit\u001b[0m\u001b[0;34m(\u001b[0m\u001b[0;34m)\u001b[0m\u001b[0;34m:\u001b[0m\u001b[0;34m\u001b[0m\u001b[0;34m\u001b[0m\u001b[0m\n",
            "\u001b[0;32m/usr/local/lib/python3.7/dist-packages/ipykernel/kernelbase.py\u001b[0m in \u001b[0;36mraw_input\u001b[0;34m(self, prompt)\u001b[0m\n\u001b[1;32m    702\u001b[0m             \u001b[0mself\u001b[0m\u001b[0;34m.\u001b[0m\u001b[0m_parent_ident\u001b[0m\u001b[0;34m,\u001b[0m\u001b[0;34m\u001b[0m\u001b[0;34m\u001b[0m\u001b[0m\n\u001b[1;32m    703\u001b[0m             \u001b[0mself\u001b[0m\u001b[0;34m.\u001b[0m\u001b[0m_parent_header\u001b[0m\u001b[0;34m,\u001b[0m\u001b[0;34m\u001b[0m\u001b[0;34m\u001b[0m\u001b[0m\n\u001b[0;32m--> 704\u001b[0;31m             \u001b[0mpassword\u001b[0m\u001b[0;34m=\u001b[0m\u001b[0;32mFalse\u001b[0m\u001b[0;34m,\u001b[0m\u001b[0;34m\u001b[0m\u001b[0;34m\u001b[0m\u001b[0m\n\u001b[0m\u001b[1;32m    705\u001b[0m         )\n\u001b[1;32m    706\u001b[0m \u001b[0;34m\u001b[0m\u001b[0m\n",
            "\u001b[0;32m/usr/local/lib/python3.7/dist-packages/ipykernel/kernelbase.py\u001b[0m in \u001b[0;36m_input_request\u001b[0;34m(self, prompt, ident, parent, password)\u001b[0m\n\u001b[1;32m    732\u001b[0m             \u001b[0;32mexcept\u001b[0m \u001b[0mKeyboardInterrupt\u001b[0m\u001b[0;34m:\u001b[0m\u001b[0;34m\u001b[0m\u001b[0;34m\u001b[0m\u001b[0m\n\u001b[1;32m    733\u001b[0m                 \u001b[0;31m# re-raise KeyboardInterrupt, to truncate traceback\u001b[0m\u001b[0;34m\u001b[0m\u001b[0;34m\u001b[0m\u001b[0;34m\u001b[0m\u001b[0m\n\u001b[0;32m--> 734\u001b[0;31m                 \u001b[0;32mraise\u001b[0m \u001b[0mKeyboardInterrupt\u001b[0m\u001b[0;34m\u001b[0m\u001b[0;34m\u001b[0m\u001b[0m\n\u001b[0m\u001b[1;32m    735\u001b[0m             \u001b[0;32melse\u001b[0m\u001b[0;34m:\u001b[0m\u001b[0;34m\u001b[0m\u001b[0;34m\u001b[0m\u001b[0m\n\u001b[1;32m    736\u001b[0m                 \u001b[0;32mbreak\u001b[0m\u001b[0;34m\u001b[0m\u001b[0;34m\u001b[0m\u001b[0m\n",
            "\u001b[0;31mKeyboardInterrupt\u001b[0m: "
          ]
        }
      ]
    }
  ]
}