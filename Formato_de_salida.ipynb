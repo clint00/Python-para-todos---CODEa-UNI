{
  "nbformat": 4,
  "nbformat_minor": 0,
  "metadata": {
    "colab": {
      "name": "Formato de salida.ipynb",
      "provenance": [],
      "authorship_tag": "ABX9TyMF/KAETwAHn1Ipv4+ljpq9",
      "include_colab_link": true
    },
    "kernelspec": {
      "name": "python3",
      "display_name": "Python 3"
    },
    "language_info": {
      "name": "python"
    }
  },
  "cells": [
    {
      "cell_type": "markdown",
      "metadata": {
        "id": "view-in-github",
        "colab_type": "text"
      },
      "source": [
        "<a href=\"https://colab.research.google.com/github/clint00/Python-para-todos---CODEa-UNI/blob/curso_python/Formato_de_salida.ipynb\" target=\"_parent\"><img src=\"https://colab.research.google.com/assets/colab-badge.svg\" alt=\"Open In Colab\"/></a>"
      ]
    },
    {
      "cell_type": "markdown",
      "source": [
        "### **Formateo basado en %, en str.format() y string.Template():**\n",
        "\n",
        "<br>\n",
        "\n",
        "Básicamente, los modos de dar formato de sustitución que es reconocido por el uso del signo % y las funciones str.format() y string.Template().\n",
        "<br>\n",
        "\n",
        "El formato basado en % sólo es válido para los tipos de datos str(%s), int(%i) y float(%f):\n"
      ],
      "metadata": {
        "id": "PA8F7w9gGCGs"
      }
    },
    {
      "cell_type": "code",
      "execution_count": null,
      "metadata": {
        "colab": {
          "base_uri": "https://localhost:8080/"
        },
        "id": "dheYiNbeF8wr",
        "outputId": "c3323a14-5483-4fdb-d3a7-7b4f4e0e9872"
      },
      "outputs": [
        {
          "output_type": "stream",
          "name": "stdout",
          "text": [
            "tiene 35 años\n",
            "Claudia tiene 35 años y mide 1.820000\n"
          ]
        }
      ],
      "source": [
        "nombre = \"Claudia\"\n",
        "edad = 35\n",
        "altura = 1.82\n",
        "\n",
        "print(\"tiene %i años\" %edad)\n",
        "print(\"%s tiene %i años y mide %f\" %(nombre, edad, altura))"
      ]
    },
    {
      "cell_type": "markdown",
      "source": [
        "El formato con str.format() permite fijar la longitud de una cadena, aplicar formatos numéricos, establecer la  alineación, tabular datos y rellenar espacios con un  determinado carácter:"
      ],
      "metadata": {
        "id": "wQtnAg8eHcb8"
      }
    },
    {
      "cell_type": "code",
      "source": [
        "valor1 = 8.5667\n",
        "valor2 = 9.5686\n",
        "print('{0:.2} {1:.3}'.format(valor1, valor2))\n",
        "\n",
        "val = 120\n",
        "print(\"Velocidad permitida: {valor}Km/h.\".format(valor=val))"
      ],
      "metadata": {
        "colab": {
          "base_uri": "https://localhost:8080/"
        },
        "id": "DPOhv1MfGBil",
        "outputId": "0ffacc7e-af72-4e26-a2db-cffde367f688"
      },
      "execution_count": null,
      "outputs": [
        {
          "output_type": "stream",
          "name": "stdout",
          "text": [
            "8.6 9.57\n"
          ]
        }
      ]
    },
    {
      "cell_type": "markdown",
      "source": [
        "Con string.Template también se pueden insertar los valores de variables y/o expresiones en una cadena, aunque la brevedad brilla por su ausencia:"
      ],
      "metadata": {
        "id": "lanmT4nGHj1r"
      }
    },
    {
      "cell_type": "code",
      "source": [
        "from string import Template\n",
        "\n",
        "perfil = Template(\"$nom es $pro con un salario de $sal$\")\n",
        "print(perfil.safe_substitute(nom=\"Bill\", pro=\"desarrollador\", sal=5000))"
      ],
      "metadata": {
        "colab": {
          "base_uri": "https://localhost:8080/"
        },
        "id": "OEEe25jWHmb8",
        "outputId": "231fcf8f-d0c9-4ce6-bf68-f6046a8baace"
      },
      "execution_count": null,
      "outputs": [
        {
          "output_type": "stream",
          "name": "stdout",
          "text": [
            "Bill es desarrollador con un salario de 5000$\n"
          ]
        }
      ]
    },
    {
      "cell_type": "markdown",
      "source": [
        "### **Las cadenas de formato f:**\n",
        "\n",
        "Las cadenas f proporcionan una forma sencilla de integrar variables y expresiones dentro de una cadena empleando una sintaxis muy reducida. \n",
        "\n",
        "Dentro de una cadena \"f\" se pueden insertar variables y expresiones escribiéndolas entre llaves {}.\n",
        "\n",
        "cadenaf = f'cadena'\n",
        "\n",
        "cadenaf = f\"\"\" línea1<br>\n",
        "\t\t\t<b>&nbsp;&nbsp;&nbsp;&nbsp;&nbsp;&nbsp;&nbsp;&nbsp;&nbsp;&nbsp;&nbsp;&nbsp;&nbsp;&nbsp;&nbsp;&nbsp;&nbsp;&nbsp;&nbsp;&nbsp;&nbsp;&nbsp;&nbsp;</b> línea2  <br>\n",
        "<b>&nbsp;&nbsp;&nbsp;&nbsp;&nbsp;&nbsp;&nbsp;&nbsp;&nbsp;&nbsp;&nbsp;&nbsp;&nbsp;&nbsp;&nbsp;&nbsp;&nbsp;&nbsp;&nbsp;&nbsp;&nbsp;&nbsp;&nbsp;</b> línea2 \"\"\"\n"
      ],
      "metadata": {
        "id": "l3Wvj5GAJCDC"
      }
    },
    {
      "cell_type": "code",
      "source": [
        "arbol = \"secuoya\"\n",
        "alt = 115\n",
        "\n",
        "print(f\"Una {arbol} mide {alt}\")\n",
        "\n",
        "presicion = 5\n",
        "numpi = 3.14159265358979323846\n",
        "print(f\"Numero PI: {numpi:.{presicion}}\")"
      ],
      "metadata": {
        "colab": {
          "base_uri": "https://localhost:8080/"
        },
        "id": "oRBi_8B7KK9q",
        "outputId": "ead52d86-9e08-4788-eb62-5f88dd2b99e3"
      },
      "execution_count": null,
      "outputs": [
        {
          "output_type": "stream",
          "name": "stdout",
          "text": [
            "Una secuoya mide 115\n",
            "Numero PI: 3.1416\n"
          ]
        }
      ]
    }
  ]
}