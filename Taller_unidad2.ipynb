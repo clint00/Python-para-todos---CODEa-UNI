{
  "nbformat": 4,
  "nbformat_minor": 0,
  "metadata": {
    "colab": {
      "name": "Taller unidad2.ipynb",
      "provenance": [],
      "authorship_tag": "ABX9TyPxUg3UWzrZpfHugT73RZoL",
      "include_colab_link": true
    },
    "kernelspec": {
      "name": "python3",
      "display_name": "Python 3"
    },
    "language_info": {
      "name": "python"
    }
  },
  "cells": [
    {
      "cell_type": "markdown",
      "metadata": {
        "id": "view-in-github",
        "colab_type": "text"
      },
      "source": [
        "<a href=\"https://colab.research.google.com/github/clint00/Python-para-todos---CODEa-UNI/blob/curso_python/Taller_unidad2.ipynb\" target=\"_parent\"><img src=\"https://colab.research.google.com/assets/colab-badge.svg\" alt=\"Open In Colab\"/></a>"
      ]
    },
    {
      "cell_type": "markdown",
      "source": [
        "Desarrollado por Bill Maquin Valladares para la comunidad CODEa UNI"
      ],
      "metadata": {
        "id": "6DZUBLDX3ww6"
      }
    },
    {
      "cell_type": "code",
      "execution_count": null,
      "metadata": {
        "id": "fkHnkX4E3iX4"
      },
      "outputs": [],
      "source": [
        "# Definimos la base de datos\n",
        "\n",
        "import sqlite3 as sq\n",
        "con = sq.connect(\"mina_justa.sqlite3\")\n",
        "\n",
        "con.execute(\"PRAGMA foreign_keys=ON\")\n",
        "con.execute(\"create table cargos(id integer primary key autoincrement, cargo text, descripcion text)\")\n",
        "con.execute(\"create table usuarios(id integer primary key autoincrement, dni text, nombre text, apellidos text, cargo integer, sueldo real, foreign key(cargo) references cargos(id))\")\n",
        "\n",
        "con.execute(\"insert into cargos(cargo, descripcion) values ('junior', 'resp 1')\")\n",
        "con.execute(\"insert into cargos(cargo, descripcion) values ('practicante', 'resp 2')\")\n",
        "con.execute(\"insert into cargos(cargo, descripcion) values ('gerente', 'resp 3')\")\n",
        "\n",
        "con.close()"
      ]
    },
    {
      "cell_type": "code",
      "source": [
        "# Definimos las funciones agregar - eliminar - (actualizar - tarea para ustedes)\n",
        "\n",
        "\n"
      ],
      "metadata": {
        "id": "iGdk82mK4R-b"
      },
      "execution_count": null,
      "outputs": []
    },
    {
      "cell_type": "code",
      "source": [
        "# Definimos las opciones en funciones y la funcion principal\n",
        "\n",
        "\n"
      ],
      "metadata": {
        "id": "uqdeuG5a4sav"
      },
      "execution_count": null,
      "outputs": []
    },
    {
      "cell_type": "code",
      "source": [
        "DB = []\n",
        "\n",
        "\n",
        "while True:\n",
        "    print(\"##############################################\")\n",
        "    print(\"1.- Registrar un trajador: \")\n",
        "    print(\"2.- Despedir un trajador: \")\n",
        "    print(\"3.- Calcular el costo fijo de planilla: \")\n",
        "    print(\"0.- Terminar el programa: \")\n",
        "    print(\"##############################################\")\n",
        "    opcion = input(\"Elija una opcion: \")\n",
        "\n",
        "    if opcion.isdigit():\n",
        "        opcion = int(opcion)\n",
        "        if opcion not in [0, 1, 2, 3]:\n",
        "            print(\"Elija una opcion valida\")\n",
        "            continue\n",
        "    else:\n",
        "        print(\"Elija una opcion valida\")\n",
        "        continue\n",
        "\n",
        "    if opcion == 1:\n",
        "        msj = \"\"\n",
        "        dni = input(\"Ingrese su DNI: \")\n",
        "        nombre = input(\"Ingrese su nombre: \")\n",
        "        apellidos = input(\"Ingrese su apellidos: \")\n",
        "        cargo = input(\"Ingrese su cargo: \")\n",
        "        sueldo = input(\"Ingrese su sueldo: \")\n",
        "\n",
        "        if not dni.isdigit():\n",
        "            msj = msj + \"Formato no valido DNI\\n\"\n",
        "        if not nombre.isalpha():\n",
        "            msj = msj + \"Formato no valido NOMBRE\\n\"\n",
        "\n",
        "        if dni.isdigit() and nombre.isalnum() and apellidos.isalpha() and cargo.isalnum() and sueldo.isdecimal():\n",
        "            trabajador = [dni, nombre, apellidos, cargo, float(sueldo)]\n",
        "            DB.append(trabajador)\n",
        "            print(\"se registro correctamente.\")\n",
        "        else:\n",
        "            print(\"no se registro trabajador - ERROR\")\n",
        "            print(msj)\n",
        "\n",
        "    elif opcion == 2:\n",
        "        dni = input(\"Ingrese su DNI: \")\n",
        "        if dni.isdigit():\n",
        "            i = 0\n",
        "            index = -1\n",
        "            for trabajador in DB:\n",
        "                if trabajador[0] == dni:\n",
        "                    index = i\n",
        "                i += 1\n",
        "            if index >= 0:\n",
        "                DB.pop(index)\n",
        "                print(\"Empleado eliminado correctamente\")\n",
        "            else:\n",
        "                print(\"El DNI no existe en nuestra base de datos\")\n",
        "        else:\n",
        "            print(\"ingrese el DNI en un formato correcto.\")\n",
        "    elif opcion == 3:\n",
        "        suma = 0\n",
        "        for trabajador in DB:\n",
        "            suma = suma + trabajador[-1]\n",
        "        print(\"el costo fijo de planilla.\"+f\"/S.{suma}\")\n",
        "    elif opcion == 0:\n",
        "        break\n",
        "\n"
      ],
      "metadata": {
        "id": "HmknNEycuCl1"
      },
      "execution_count": null,
      "outputs": []
    }
  ]
}